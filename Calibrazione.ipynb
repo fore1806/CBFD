{
 "cells": [
  {
   "cell_type": "markdown",
   "id": "5ae24d1f",
   "metadata": {},
   "source": [
    "# Camera Calibration\n",
    "\n",
    "Import the libraries"
   ]
  },
  {
   "cell_type": "code",
   "execution_count": 2,
   "id": "9bda127a",
   "metadata": {},
   "outputs": [],
   "source": [
    "import numpy as np\n",
    "import matplotlib.pyplot as plt\n",
    "import cv2 as cv\n",
    "import glob\n",
    "import os"
   ]
  },
  {
   "cell_type": "markdown",
   "id": "3482396b",
   "metadata": {},
   "source": [
    "## Number of intern corners"
   ]
  },
  {
   "cell_type": "code",
   "execution_count": 3,
   "id": "3e2d268c",
   "metadata": {},
   "outputs": [
    {
     "name": "stdout",
     "output_type": "stream",
     "text": [
      "Number of images found for doing the calibration: 27\n",
      "Mean RMSE: \n",
      " 0.13636081011286866\n",
      "Camera Matrix:\n",
      " [[2.19541490e+03 0.00000000e+00 9.43291666e+02]\n",
      " [0.00000000e+00 2.19500927e+03 6.39588069e+02]\n",
      " [0.00000000e+00 0.00000000e+00 1.00000000e+00]]\n",
      "Distorsion Coefficients:\n",
      " [[-8.51908410e-02 -8.22525319e-01  5.86018343e-03  2.60991380e-03\n",
      "   6.15370855e+00]]\n"
     ]
    }
   ],
   "source": [
    "pattern_size = (4,3)\n",
    "\n",
    "objp = np.zeros((pattern_size[0]*pattern_size[1],3),np.float32) # We create a 3D point for each corner in the chessboard\n",
    "objp[:,:2] = np.mgrid[0:pattern_size[0],0:pattern_size[1]].T.reshape(-1,2) # We fill the 3D points with the 2D points of the chessboard\n",
    "\n",
    "\n",
    "# Arrays to store the object points and image points from all the images\n",
    "objpoints = [] # 3D point in real world space\n",
    "imgpoints = [] # 2D points in image plane\n",
    "\n",
    "# Loading the images\n",
    "# Get the current working directory\n",
    "baseFolder = os.getcwd()\n",
    "\n",
    "# Select the path that contains the photos\n",
    "# folder = os.path.join(baseFolder, \"photos\",\"calibration\")\n",
    "folder = os.path.join(baseFolder, \"photos\",\"calibrationSetup2\")\n",
    "#folder = os.path.join(baseFolder, \"images\", \"calibrationCamera\")\n",
    "\n",
    "# We read all the images in the folder with png extension\n",
    "images = glob.glob(os.path.join(folder, \"*.png\"))\n",
    "\n",
    "print(f\"Number of images found for doing the calibration: {len(images)}\")\n",
    "\n",
    "for fname in images:\n",
    "    img = cv.imread(fname, 0) # We read the image in B/W\n",
    "    \n",
    "    ret, corners = cv.findChessboardCorners(img, pattern_size, None) # We search for the chessboard corners\n",
    "\n",
    "    if ret == True:\n",
    "        objpoints.append(objp)\n",
    "        imgpoints.append(corners)\n",
    "\n",
    "        # We create a copy of the image to draw the corners in color\n",
    "        img_color = img.copy()\n",
    "        img_color = cv.cvtColor(img_color, cv.COLOR_GRAY2BGR)\n",
    "\n",
    "        # We draw the chessboard corners in the image (GBR)\n",
    "        for corner in corners:\n",
    "            x, y = corner.ravel()\n",
    "            cv.circle(img_color, (int(x), int(y)), radius=5, color=(0, 0, 255), thickness=-1)\n",
    "\n",
    "        # We resize the image to show it in the PC screen\n",
    "        img_shown = cv.resize(img_color, (800, 600))\n",
    "\n",
    "        # The image with the corners is shown\n",
    "        cv.imshow('Detected Corners', img_shown) # We show the found corners in the image\n",
    "        cv.waitKey(1000)\n",
    "    else:\n",
    "        print(f\"The image: {fname} cannot be used for calibration, corners not found\")\n",
    "cv.destroyAllWindows()\n",
    "\n",
    "\n",
    "ret, mtx, dist, rvecs, tvecs = cv.calibrateCamera(objpoints, imgpoints, img.shape[::-1], None, None)\n",
    "\n",
    "print(\"Mean RMSE: \\n\", ret)\n",
    "print(\"Camera Matrix:\\n\", mtx)\n",
    "print(\"Distorsion Coefficients:\\n\", dist)\n",
    "#np.savez('calibration/camera_setup1.npz', mtx=mtx, dist=dist, rvecs=rvecs, tvecs=tvecs)\n",
    "np.savez('calibration/camera_setup2.npz', mtx=mtx, dist=dist, rvecs=rvecs, tvecs=tvecs)"
   ]
  }
 ],
 "metadata": {
  "kernelspec": {
   "display_name": "Python 3",
   "language": "python",
   "name": "python3"
  },
  "language_info": {
   "codemirror_mode": {
    "name": "ipython",
    "version": 3
   },
   "file_extension": ".py",
   "mimetype": "text/x-python",
   "name": "python",
   "nbconvert_exporter": "python",
   "pygments_lexer": "ipython3",
   "version": "3.11.9"
  }
 },
 "nbformat": 4,
 "nbformat_minor": 5
}
