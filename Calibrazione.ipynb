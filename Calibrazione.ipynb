{
 "cells": [
  {
   "cell_type": "markdown",
   "id": "5ae24d1f",
   "metadata": {},
   "source": [
    "# Camera Calibration\n",
    "\n",
    "Import the libraries"
   ]
  },
  {
   "cell_type": "code",
   "execution_count": 1,
   "id": "9bda127a",
   "metadata": {},
   "outputs": [],
   "source": [
    "import numpy as np\n",
    "import matplotlib.pyplot as plt\n",
    "import cv2 as cv\n",
    "import glob"
   ]
  },
  {
   "cell_type": "markdown",
   "id": "3482396b",
   "metadata": {},
   "source": [
    "## Number of intern corners"
   ]
  },
  {
   "cell_type": "code",
   "execution_count": 5,
   "id": "3e2d268c",
   "metadata": {},
   "outputs": [
    {
     "name": "stdout",
     "output_type": "stream",
     "text": [
      "Número de imágenes encontradas: 20\n",
      "No se detectaron esquinas en C:/Users/felip/OneDrive/POLIMI FORE/SEMESTRE II/ADVANCED_MEASSUREMENTS/PROGETTO/images/calibrationCamera\\img2.png\n",
      "Matriz de la cámara:\n",
      " [[2.21323458e+03 0.00000000e+00 9.78757981e+02]\n",
      " [0.00000000e+00 2.21353499e+03 6.29305699e+02]\n",
      " [0.00000000e+00 0.00000000e+00 1.00000000e+00]]\n",
      "Coeficientes de distorsión:\n",
      " [[-1.25045150e-01  6.72672547e-01  1.30287312e-05  1.08249958e-03\n",
      "  -1.16896201e+00]]\n"
     ]
    }
   ],
   "source": [
    "pattern_size = (4,3)\n",
    "\n",
    "objp = np.zeros((pattern_size[0]*pattern_size[1],3),np.float32) # We create a 3D point for each corner in the chessboard\n",
    "objp[:,:2] = np.mgrid[0:pattern_size[0],0:pattern_size[1]].T.reshape(-1,2) # We fill the 3D points with the 2D points of the chessboard\n",
    "\n",
    "\n",
    "# Arrays to store the object points and image points from all the images\n",
    "objpoints = [] # 3D point in real world space\n",
    "imgpoints = [] # 2D points in image plane\n",
    "\n",
    "# Loading the images\n",
    "#images = glob.glob('C:/Users/felip/OneDrive/POLIMI FORE/SEMESTRE II/ADVANCED_MEASSUREMENTS/PROGETTO/photos/calibration/*.png')\n",
    "images = glob.glob('C:/Users/felip/OneDrive/POLIMI FORE/SEMESTRE II/ADVANCED_MEASSUREMENTS/PROGETTO/images/calibrationCamera/*.png')\n",
    "\n",
    "print(f\"Número de imágenes encontradas: {len(images)}\")\n",
    "\n",
    "for fname in images:\n",
    "    img = cv.imread(fname, 0) # We read the image in B/W\n",
    "    \n",
    "    ret, corners = cv.findChessboardCorners(img, pattern_size, None) # We search for the chessboard corners\n",
    "\n",
    "    if ret == True:\n",
    "        #print(f\"Esquinas detectadas en {fname}\")\n",
    "        objpoints.append(objp)\n",
    "        imgpoints.append(corners)\n",
    "\n",
    "        cv.drawChessboardCorners(img, pattern_size, corners, ret) # We draw the chessboard corners\n",
    "        cv.imshow('Esquinas detectadas', img) # We show the found corners in the image\n",
    "        cv.waitKey(500)\n",
    "    else:\n",
    "        print(f\"No se detectaron esquinas en {fname}\")\n",
    "cv.destroyAllWindows()\n",
    "\n",
    "\n",
    "ret, mtx, dist, rvecs, tvecs = cv.calibrateCamera(objpoints, imgpoints, img.shape[::-1], None, None)\n",
    "\n",
    "print(\"Matriz de la cámara:\\n\", mtx)\n",
    "print(\"Coeficientes de distorsión:\\n\", dist)\n",
    "\n",
    "\n",
    "np.savez('calibracion_cam.npz', mtx=mtx, dist=dist, rvecs=rvecs, tvecs=tvecs)"
   ]
  }
 ],
 "metadata": {
  "kernelspec": {
   "display_name": "Python 3",
   "language": "python",
   "name": "python3"
  },
  "language_info": {
   "codemirror_mode": {
    "name": "ipython",
    "version": 3
   },
   "file_extension": ".py",
   "mimetype": "text/x-python",
   "name": "python",
   "nbconvert_exporter": "python",
   "pygments_lexer": "ipython3",
   "version": "3.11.9"
  }
 },
 "nbformat": 4,
 "nbformat_minor": 5
}
