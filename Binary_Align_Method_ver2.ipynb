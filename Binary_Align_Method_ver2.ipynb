{
  "nbformat": 4,
  "nbformat_minor": 0,
  "metadata": {
    "colab": {
      "provenance": [],
      "authorship_tag": "ABX9TyPSapgFvstDW2Xk/ruZaL5L"
    },
    "kernelspec": {
      "name": "python3",
      "display_name": "Python 3"
    },
    "language_info": {
      "name": "python"
    }
  },
  "cells": [
    {
      "cell_type": "code",
      "execution_count": 11,
      "metadata": {
        "id": "ylyP6ykt-RAL"
      },
      "outputs": [],
      "source": [
        "import cv2\n",
        "import numpy as np\n",
        "from pathlib import Path\n",
        "import glob\n"
      ]
    },
    {
      "cell_type": "code",
      "source": [
        "def align_cardboard(img, target_size):\n",
        "    \"\"\"\n",
        "    Perform perspective correction on the input cardboard image and ensure the long edge is vertical.\n",
        "    target_size: (width, height)\n",
        "    \"\"\"\n",
        "    # 1. gray + blurred + Canny edges\n",
        "    gray    = cv2.cvtColor(img, cv2.COLOR_BGR2GRAY)\n",
        "    blurred = cv2.GaussianBlur(gray, (5,5), 0)\n",
        "    edges   = cv2.Canny(blurred, 50, 150)\n",
        "\n",
        "    # 2. find the largest contour\n",
        "    cnts, _ = cv2.findContours(edges, cv2.RETR_EXTERNAL, cv2.CHAIN_APPROX_SIMPLE)\n",
        "    if not cnts:\n",
        "        return None\n",
        "    c = max(cnts, key=cv2.contourArea)\n",
        "\n",
        "    # 3. Minimum bounding rectangle\n",
        "    rect = cv2.minAreaRect(c)\n",
        "    box = cv2.boxPoints(rect).astype(int)\n",
        "\n",
        "    # 4.Sort corners: top left, top right, bottom right, bottom left\n",
        "    def order_pts(pts):\n",
        "        pts = pts[np.argsort(pts[:,1])]\n",
        "        top = pts[:2]; bot = pts[2:]\n",
        "        top = top[np.argsort(top[:,0])]\n",
        "        bot = bot[np.argsort(bot[:,0])[::-1]]\n",
        "        return np.vstack((top, bot))\n",
        "\n",
        "    src = order_pts(box.astype(\"float32\"))\n",
        "\n",
        "    # 5. Perspective transformation to target size\n",
        "    w, h = target_size\n",
        "    dst = np.array([[0,0],[w-1,0],[w-1,h-1],[0,h-1]], dtype=\"float32\")\n",
        "    M   = cv2.getPerspectiveTransform(src, dst)\n",
        "    warped = cv2.warpPerspective(img, M, target_size)\n",
        "\n",
        "    # 6. If width > height, rotate 90° clockwise.\n",
        "    if warped.shape[0] < warped.shape[1]:\n",
        "        warped = cv2.rotate(warped, cv2.ROTATE_90_CLOCKWISE)\n",
        "\n",
        "    return warped\n"
      ],
      "metadata": {
        "id": "XBXfWUw4-VAM"
      },
      "execution_count": 12,
      "outputs": []
    },
    {
      "cell_type": "code",
      "source": [
        "def detect_defect(img_ok, img_test, thresh_val=30, diff_thresh=0.01):\n",
        "    diff = cv2.absdiff(img_ok, img_test)\n",
        "    gray = cv2.cvtColor(diff, cv2.COLOR_BGR2GRAY)\n",
        "    _, bw = cv2.threshold(gray, thresh_val, 255, cv2.THRESH_BINARY)\n",
        "\n",
        "    error_rate = np.count_nonzero(bw) / bw.size\n",
        "    status = \"❌ NQualified\" if error_rate > diff_thresh else \"✅ Qualified\"\n",
        "\n",
        "    heat    = cv2.applyColorMap(bw, cv2.COLORMAP_JET)\n",
        "    overlay = cv2.addWeighted(img_test, 0.7, heat, 0.3, 0)\n",
        "\n",
        "    label = f\"Diff: {error_rate:.3f} {status}\"\n",
        "    color = (0,255,0) if status==\"✅ Qualified\" else (0,0,255)\n",
        "    cv2.putText(overlay, label, (10,30),\n",
        "                cv2.FONT_HERSHEY_SIMPLEX, 0.8, color, 2, cv2.LINE_AA)\n",
        "\n",
        "    return overlay, error_rate, status\n"
      ],
      "metadata": {
        "id": "YC2WIhAl-XMO"
      },
      "execution_count": 13,
      "outputs": []
    },
    {
      "cell_type": "code",
      "source": [
        "def batch_template_check(ok_folder, ng_folder, out_folder,\n",
        "                         thresh_val=30, diff_thresh=0.01):\n",
        "    ok_folder = Path(ok_folder)\n",
        "    ng_folder = Path(ng_folder)\n",
        "    out_folder = Path(out_folder)\n",
        "    out_folder.mkdir(parents=True, exist_ok=True)\n",
        "\n",
        "    ok_paths = list(ok_folder.glob(\"*.png\")) + list(ok_folder.glob(\"*.jpg\"))\n",
        "    if not ok_paths:\n",
        "        raise FileNotFoundError(f\"No template in {ok_folder}\")\n",
        "    ok_raw = cv2.imread(str(ok_paths[0]))\n",
        "    h, w = ok_raw.shape[:2]; target = (w, h)\n",
        "\n",
        "    ok_aligned = align_cardboard(ok_raw, target)\n",
        "    if ok_aligned is None:\n",
        "        raise RuntimeError(\"Template alignment failed\")\n",
        "\n",
        "    results = []\n",
        "    for ext in (\"*.png\",\"*.jpg\",\"*.jpeg\"):\n",
        "        for fp in sorted(ng_folder.glob(ext)):\n",
        "            img_raw = cv2.imread(str(fp))\n",
        "            if img_raw is None:\n",
        "                results.append((fp.name, None, \"Read failed\")); continue\n",
        "            aligned = align_cardboard(img_raw, target)\n",
        "            if aligned is None:\n",
        "                results.append((fp.name, None, \"Alignment failed\")); continue\n",
        "            overlay, rate, status = detect_defect(ok_aligned, aligned,\n",
        "                                 thresh_val, diff_thresh)\n",
        "            save_path = out_folder / f\"vis_{fp.stem}.png\"\n",
        "            cv2.imwrite(str(save_path), overlay)\n",
        "            results.append((fp.name, rate, status))\n",
        "    return results\n"
      ],
      "metadata": {
        "id": "Tlhdm3Au-ZTn"
      },
      "execution_count": 14,
      "outputs": []
    },
    {
      "cell_type": "code",
      "source": [
        "OK_IMG_DIR = \"/content/sample_data/images/OK\"\n",
        "NG_DIR     = \"/content/sample_data/images/NG\"\n",
        "OUT_DIR    = \"/content/sample_data/images/results\"\n",
        "\n",
        "results = batch_template_check(OK_IMG_DIR, NG_DIR, OUT_DIR,\n",
        "                               thresh_val=30, diff_thresh=0.01)\n",
        "for name, rate, stat in results:\n",
        "    rate_str = \"--\" if rate is None else f\"{rate:.3f}\"\n",
        "    print(f\"{name:<15}  rate: {rate_str}  {stat}\")\n"
      ],
      "metadata": {
        "colab": {
          "base_uri": "https://localhost:8080/"
        },
        "id": "E7xHLKuM-bnp",
        "outputId": "25ea7859-d18b-4d50-e170-c62bd857dfe3"
      },
      "execution_count": 15,
      "outputs": [
        {
          "output_type": "stream",
          "name": "stdout",
          "text": [
            "10.png           rate: 0.736  ❌ NQualified\n",
            "11.png           rate: 0.711  ❌ NQualified\n",
            "12.png           rate: 0.609  ❌ NQualified\n",
            "14.png           rate: 0.705  ❌ NQualified\n",
            "2.png            rate: 0.598  ❌ NQualified\n",
            "3.png            rate: 0.634  ❌ NQualified\n",
            "4.png            rate: 0.525  ❌ NQualified\n",
            "5.png            rate: 0.699  ❌ NQualified\n",
            "6.png            rate: 0.746  ❌ NQualified\n"
          ]
        }
      ]
    }
  ]
}