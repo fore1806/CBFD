{
 "cells": [
  {
   "cell_type": "code",
   "execution_count": 6,
   "id": "941b24e5",
   "metadata": {},
   "outputs": [],
   "source": [
    "import numpy as np\n",
    "import matplotlib.pyplot as plt\n",
    "import cv2 as cv\n",
    "import os"
   ]
  },
  {
   "cell_type": "code",
   "execution_count": null,
   "id": "e54961bd",
   "metadata": {},
   "outputs": [],
   "source": [
    "# Get the current working directory\n",
    "baseFolder = os.getcwd()\n",
    "\n",
    "# Define the folder containing the images\n",
    "folder = os.path.join(baseFolder, \"photos\", \"largeBubbles\")\n",
    "\n",
    "# Read the image in grayscale\n",
    "img = cv.imread(os.path.join(folder, \"1.png\"),0)"
   ]
  }
 ],
 "metadata": {
  "kernelspec": {
   "display_name": "Python 3",
   "language": "python",
   "name": "python3"
  },
  "language_info": {
   "codemirror_mode": {
    "name": "ipython",
    "version": 3
   },
   "file_extension": ".py",
   "mimetype": "text/x-python",
   "name": "python",
   "nbconvert_exporter": "python",
   "pygments_lexer": "ipython3",
   "version": "3.11.9"
  }
 },
 "nbformat": 4,
 "nbformat_minor": 5
}
